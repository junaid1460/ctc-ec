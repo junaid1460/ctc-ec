{
 "cells": [
  {
   "cell_type": "markdown",
   "metadata": {},
   "source": [
    "# CTC \n",
    "\n",
    "`Topics`(08/02/2018)\n",
    " - What is Python\n",
    " - how to get started with any language\n",
    " - Data structures\n",
    "   - List\n",
    "   - Tree\n",
    "   - Hash Table\n",
    "     - set\n",
    "     - dictionary"
   ]
  },
  {
   "cell_type": "markdown",
   "metadata": {},
   "source": [
    "## list and set"
   ]
  },
  {
   "cell_type": "code",
   "execution_count": 30,
   "metadata": {},
   "outputs": [
    {
     "name": "stdout",
     "output_type": "stream",
     "text": [
      "list ['rm', 'rm', 'rn']\n",
      "set {'rm', 'rn'}\n"
     ]
    }
   ],
   "source": [
    "l = [\"rm\", \"rm\", \"rn\"] # a list\n",
    "print(\"list\", l)\n",
    "s = set(l) # a set\n",
    "print(\"set\", s)"
   ]
  },
  {
   "cell_type": "markdown",
   "metadata": {},
   "source": [
    "### appending elements to a list"
   ]
  },
  {
   "cell_type": "code",
   "execution_count": 27,
   "metadata": {},
   "outputs": [
    {
     "name": "stdout",
     "output_type": "stream",
     "text": [
      "initial paper []\n",
      "after adding one element ['tomato']\n",
      "after adding two elements ['tomato', 'egg']\n",
      "final paper :  ['tomato', 'egg', 2, ['rm', 'rm', 'rn']]\n"
     ]
    }
   ],
   "source": [
    "paper = []\n",
    "print(\"initial paper\", paper)\n",
    "paper.append(\"tomato\") # adding one element\n",
    "print(\"after adding one element\", paper)\n",
    "paper.append(\"egg\")\n",
    "print(\"after adding two elements\", paper)\n",
    "\n",
    "paper.append(2) # list can have elements of any ttype\n",
    "paper.append(l) # it can have another list too\n",
    "\n",
    "print(\"final paper : \", paper)"
   ]
  },
  {
   "cell_type": "markdown",
   "metadata": {},
   "source": [
    "## dictionary"
   ]
  },
  {
   "cell_type": "code",
   "execution_count": 41,
   "metadata": {},
   "outputs": [
    {
     "name": "stdout",
     "output_type": "stream",
     "text": [
      "empty dictionary : {}\n",
      "empty dictionary : {}\n",
      "after inserting {'key': 'value'}\n",
      "after altering {'key': 100}\n"
     ]
    }
   ],
   "source": [
    "# dictionary stores unique keys with some value associated with it.\n",
    "# key : value\n",
    "\n",
    "# create a dictionary\n",
    "\n",
    "d = {} # 1\n",
    "print(\"empty dictionary :\", d)\n",
    "d = dict() # 2\n",
    "print(\"empty dictionary :\", d)\n",
    "\n",
    "# inserting a key and value to a dictionary\n",
    "\n",
    "d['key'] = \"value\"\n",
    "\n",
    "print(\"after inserting\", d)\n",
    "\n",
    "# alter already stored value\n",
    "d[\"key\"] = 100\n",
    "\n",
    "print(\"after altering\", d)"
   ]
  },
  {
   "cell_type": "markdown",
   "metadata": {},
   "source": [
    "# Counting vowels\n",
    "## dictionary and it's usecase"
   ]
  },
  {
   "cell_type": "code",
   "execution_count": 24,
   "metadata": {},
   "outputs": [
    {
     "name": "stdout",
     "output_type": "stream",
     "text": [
      "vowels are {'e', 'i', 'u', 'a', 'o'}\n",
      "\n",
      "s =  sanath is great.\n",
      "before counting occureneces! {'a': 0, 'i': 0, 'e': 0, 'o': 0, 'u': 0}\n",
      "\n",
      "checking if  s exist in {'e', 'i', 'u', 'a', 'o'}\n",
      "checking if  a exist in {'e', 'i', 'u', 'a', 'o'}\n",
      "Yes  a  is a vowel\n",
      "checking if  n exist in {'e', 'i', 'u', 'a', 'o'}\n",
      "checking if  a exist in {'e', 'i', 'u', 'a', 'o'}\n",
      "Yes  a  is a vowel\n",
      "checking if  t exist in {'e', 'i', 'u', 'a', 'o'}\n",
      "checking if  h exist in {'e', 'i', 'u', 'a', 'o'}\n",
      "checking if    exist in {'e', 'i', 'u', 'a', 'o'}\n",
      "checking if  i exist in {'e', 'i', 'u', 'a', 'o'}\n",
      "Yes  i  is a vowel\n",
      "checking if  s exist in {'e', 'i', 'u', 'a', 'o'}\n",
      "checking if    exist in {'e', 'i', 'u', 'a', 'o'}\n",
      "checking if  g exist in {'e', 'i', 'u', 'a', 'o'}\n",
      "checking if  r exist in {'e', 'i', 'u', 'a', 'o'}\n",
      "checking if  e exist in {'e', 'i', 'u', 'a', 'o'}\n",
      "Yes  e  is a vowel\n",
      "checking if  a exist in {'e', 'i', 'u', 'a', 'o'}\n",
      "Yes  a  is a vowel\n",
      "checking if  t exist in {'e', 'i', 'u', 'a', 'o'}\n",
      "checking if  . exist in {'e', 'i', 'u', 'a', 'o'}\n",
      "\n",
      "after counting occureneces! {'a': 3, 'i': 1, 'e': 1, 'o': 0, 'u': 0}\n"
     ]
    }
   ],
   "source": [
    "vowels = \"aeiou\" \n",
    "# vowels is a string now\n",
    "vowels = set(vowels) # can reassign variables with new and different values\n",
    "# vowels is a set now\n",
    "\n",
    "\n",
    "print(\"vowels are\", vowels)\n",
    "\n",
    "print() # print a new line\n",
    "\n",
    "# this is a comment\n",
    "\n",
    "# assign \"sanath is great.\" to variable 's'\n",
    "s = \"sanath is great.\"\n",
    "\n",
    "print(\"s = \", s)\n",
    "\n",
    "# this is a dictionary it has unique keys\n",
    "# and each unique key can hold a value\n",
    "count = { 'a' : 0,  'i': 0, 'e': 0, 'o': 0,  'u': 0}\n",
    "\n",
    "print('before counting occureneces!', count)\n",
    "print()\n",
    "for char in s:\n",
    "    print('checking if ', char ,'exist in', vowels)\n",
    "    if char in vow: \n",
    "        print(\"Yes \", char, \" is a vowel\")\n",
    "        count[char] = count[char] + 1 # add +1 to the value of char\n",
    "    \n",
    "print()\n",
    "print('after counting occureneces!', count)"
   ]
  },
  {
   "cell_type": "markdown",
   "metadata": {},
   "source": [
    "## try things out here ( PC )\n",
    "[https://www.python.org/shell/](https://www.python.org/shell/)"
   ]
  }
 ],
 "metadata": {
  "kernelspec": {
   "display_name": "Python 3",
   "language": "python",
   "name": "python3"
  },
  "language_info": {
   "codemirror_mode": {
    "name": "ipython",
    "version": 3
   },
   "file_extension": ".py",
   "mimetype": "text/x-python",
   "name": "python",
   "nbconvert_exporter": "python",
   "pygments_lexer": "ipython3",
   "version": "3.6.3"
  },
  "latex_envs": {
   "LaTeX_envs_menu_present": true,
   "autocomplete": true,
   "bibliofile": "biblio.bib",
   "cite_by": "apalike",
   "current_citInitial": 1,
   "eqLabelWithNumbers": true,
   "eqNumInitial": 1,
   "hotkeys": {
    "equation": "Ctrl-E",
    "itemize": "Ctrl-I"
   },
   "labels_anchors": false,
   "latex_user_defs": false,
   "report_style_numbering": false,
   "user_envs_cfg": false
  },
  "toc": {
   "nav_menu": {},
   "number_sections": true,
   "sideBar": true,
   "skip_h1_title": false,
   "toc_cell": false,
   "toc_position": {},
   "toc_section_display": "block",
   "toc_window_display": false
  }
 },
 "nbformat": 4,
 "nbformat_minor": 2
}
