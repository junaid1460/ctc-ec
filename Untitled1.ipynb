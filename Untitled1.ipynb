{
 "cells": [
  {
   "cell_type": "markdown",
   "metadata": {},
   "source": [
    "# 28 - 2 - 2018"
   ]
  },
  {
   "cell_type": "markdown",
   "metadata": {},
   "source": [
    "topics:\n",
    "    - range query\n",
    "    - Trie\n",
    "    - Chess problem"
   ]
  },
  {
   "cell_type": "code",
   "execution_count": 2,
   "metadata": {},
   "outputs": [],
   "source": [
    "arr = [ 5, 2, 4, 3, 1, 1]"
   ]
  },
  {
   "cell_type": "code",
   "execution_count": 4,
   "metadata": {},
   "outputs": [
    {
     "name": "stdout",
     "output_type": "stream",
     "text": [
      "[5, 7, 11, 14, 15, 16]\n"
     ]
    }
   ],
   "source": [
    "s = 0\n",
    "newarray = []\n",
    "for i in arr:\n",
    "    s += i\n",
    "    newarray.append(s)\n",
    "print(newarray)"
   ]
  },
  {
   "cell_type": "code",
   "execution_count": 7,
   "metadata": {},
   "outputs": [
    {
     "data": {
      "text/plain": [
       "16"
      ]
     },
     "execution_count": 7,
     "metadata": {},
     "output_type": "execute_result"
    }
   ],
   "source": [
    "i, j = 0, 5\n",
    "newarray[j] - (newarray[i] - arr[i])"
   ]
  },
  {
   "cell_type": "markdown",
   "metadata": {},
   "source": [
    "# Trie"
   ]
  },
  {
   "cell_type": "code",
   "execution_count": 8,
   "metadata": {},
   "outputs": [],
   "source": [
    "words = [\"human\", \"happy\", \"karthik\"]\n",
    "outer = dict() # create dictionary\n",
    "for word in words:\n",
    "    temp = outer\n",
    "    for char in word:\n",
    "        if char in temp:\n",
    "            temp = temp[char]\n",
    "        else:\n",
    "            temp[char] = dict()\n",
    "            temp = temp[char]\n",
    "        "
   ]
  },
  {
   "cell_type": "code",
   "execution_count": 13,
   "metadata": {},
   "outputs": [],
   "source": [
    "query = \"human\"\n",
    "temp = outer\n",
    "for char in query:\n",
    "#     print(char)\n",
    "    if not char in temp:\n",
    "        print(\"Not a valid word\")\n",
    "        break\n",
    "    else:\n",
    "        temp = temp[char]\n"
   ]
  },
  {
   "cell_type": "markdown",
   "metadata": {},
   "source": [
    "# Off topic \n",
    " - Blackhole\n",
    " - Gravity\n",
    " - Singluarity\n",
    " "
   ]
  },
  {
   "cell_type": "code",
   "execution_count": null,
   "metadata": {},
   "outputs": [],
   "source": []
  }
 ],
 "metadata": {
  "kernelspec": {
   "display_name": "Python 3",
   "language": "python",
   "name": "python3"
  },
  "language_info": {
   "codemirror_mode": {
    "name": "ipython",
    "version": 3
   },
   "file_extension": ".py",
   "mimetype": "text/x-python",
   "name": "python",
   "nbconvert_exporter": "python",
   "pygments_lexer": "ipython3",
   "version": "3.6.3"
  }
 },
 "nbformat": 4,
 "nbformat_minor": 2
}
